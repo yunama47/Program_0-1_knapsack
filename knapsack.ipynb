{
 "cells": [
  {
   "cell_type": "markdown",
   "metadata": {},
   "source": [
    "# Program implementasi 0-1 knapsack problem"
   ]
  },
  {
   "cell_type": "code",
   "execution_count": 1,
   "metadata": {},
   "outputs": [
    {
     "name": "stdout",
     "output_type": "stream",
     "text": [
      "impor berhasil\n"
     ]
    }
   ],
   "source": [
    "#import souce code knapsack.py\n",
    "from knapsack import Knapsack,run_testing"
   ]
  },
  {
   "cell_type": "markdown",
   "metadata": {},
   "source": [
    "### membuat himpunan kandidat dan instance knapsack"
   ]
  },
  {
   "cell_type": "code",
   "execution_count": 2,
   "metadata": {},
   "outputs": [
    {
     "data": {
      "text/html": [
       "<div>\n",
       "<style scoped>\n",
       "    .dataframe tbody tr th:only-of-type {\n",
       "        vertical-align: middle;\n",
       "    }\n",
       "\n",
       "    .dataframe tbody tr th {\n",
       "        vertical-align: top;\n",
       "    }\n",
       "\n",
       "    .dataframe thead th {\n",
       "        text-align: right;\n",
       "    }\n",
       "</style>\n",
       "<table border=\"1\" class=\"dataframe\">\n",
       "  <thead>\n",
       "    <tr style=\"text-align: right;\">\n",
       "      <th></th>\n",
       "      <th>Objek</th>\n",
       "      <th>Weight</th>\n",
       "      <th>Profit</th>\n",
       "      <th>Density</th>\n",
       "      <th>Brute Force</th>\n",
       "      <th>Greedy by profit</th>\n",
       "      <th>Greedy by weight</th>\n",
       "      <th>Greedy by density</th>\n",
       "    </tr>\n",
       "  </thead>\n",
       "  <tbody>\n",
       "    <tr>\n",
       "      <th>0</th>\n",
       "      <td>Meja Kayu</td>\n",
       "      <td>70</td>\n",
       "      <td>30</td>\n",
       "      <td>0.428571</td>\n",
       "      <td>0</td>\n",
       "      <td>0</td>\n",
       "      <td>0</td>\n",
       "      <td>0</td>\n",
       "    </tr>\n",
       "    <tr>\n",
       "      <th>1</th>\n",
       "      <td>Televisi</td>\n",
       "      <td>100</td>\n",
       "      <td>46</td>\n",
       "      <td>0.460000</td>\n",
       "      <td>0</td>\n",
       "      <td>0</td>\n",
       "      <td>0</td>\n",
       "      <td>0</td>\n",
       "    </tr>\n",
       "    <tr>\n",
       "      <th>2</th>\n",
       "      <td>Kabel Tembaga</td>\n",
       "      <td>90</td>\n",
       "      <td>48</td>\n",
       "      <td>0.533333</td>\n",
       "      <td>0</td>\n",
       "      <td>0</td>\n",
       "      <td>0</td>\n",
       "      <td>0</td>\n",
       "    </tr>\n",
       "    <tr>\n",
       "      <th>3</th>\n",
       "      <td>Meja Marbel</td>\n",
       "      <td>70</td>\n",
       "      <td>40</td>\n",
       "      <td>0.571429</td>\n",
       "      <td>0</td>\n",
       "      <td>0</td>\n",
       "      <td>0</td>\n",
       "      <td>0</td>\n",
       "    </tr>\n",
       "    <tr>\n",
       "      <th>4</th>\n",
       "      <td>Anting-anting berlian</td>\n",
       "      <td>50</td>\n",
       "      <td>45</td>\n",
       "      <td>0.900000</td>\n",
       "      <td>0</td>\n",
       "      <td>0</td>\n",
       "      <td>0</td>\n",
       "      <td>0</td>\n",
       "    </tr>\n",
       "    <tr>\n",
       "      <th>5</th>\n",
       "      <td>Cincin Emas</td>\n",
       "      <td>20</td>\n",
       "      <td>50</td>\n",
       "      <td>2.500000</td>\n",
       "      <td>0</td>\n",
       "      <td>0</td>\n",
       "      <td>0</td>\n",
       "      <td>0</td>\n",
       "    </tr>\n",
       "    <tr>\n",
       "      <th>6</th>\n",
       "      <td>Anting-Anting perak</td>\n",
       "      <td>50</td>\n",
       "      <td>30</td>\n",
       "      <td>0.600000</td>\n",
       "      <td>0</td>\n",
       "      <td>0</td>\n",
       "      <td>0</td>\n",
       "      <td>0</td>\n",
       "    </tr>\n",
       "    <tr>\n",
       "      <th>7</th>\n",
       "      <td>Gelang Perak</td>\n",
       "      <td>55</td>\n",
       "      <td>32</td>\n",
       "      <td>0.581818</td>\n",
       "      <td>0</td>\n",
       "      <td>0</td>\n",
       "      <td>0</td>\n",
       "      <td>0</td>\n",
       "    </tr>\n",
       "    <tr>\n",
       "      <th>8</th>\n",
       "      <td>Kursi Marbel</td>\n",
       "      <td>65</td>\n",
       "      <td>41</td>\n",
       "      <td>0.630769</td>\n",
       "      <td>0</td>\n",
       "      <td>0</td>\n",
       "      <td>0</td>\n",
       "      <td>0</td>\n",
       "    </tr>\n",
       "    <tr>\n",
       "      <th>9</th>\n",
       "      <td>Anting-Anting permata</td>\n",
       "      <td>50</td>\n",
       "      <td>30</td>\n",
       "      <td>0.600000</td>\n",
       "      <td>0</td>\n",
       "      <td>0</td>\n",
       "      <td>0</td>\n",
       "      <td>0</td>\n",
       "    </tr>\n",
       "  </tbody>\n",
       "</table>\n",
       "</div>"
      ],
      "text/plain": [
       "                   Objek  Weight  Profit   Density  Brute Force  \\\n",
       "0              Meja Kayu      70      30  0.428571            0   \n",
       "1               Televisi     100      46  0.460000            0   \n",
       "2          Kabel Tembaga      90      48  0.533333            0   \n",
       "3            Meja Marbel      70      40  0.571429            0   \n",
       "4  Anting-anting berlian      50      45  0.900000            0   \n",
       "5            Cincin Emas      20      50  2.500000            0   \n",
       "6    Anting-Anting perak      50      30  0.600000            0   \n",
       "7           Gelang Perak      55      32  0.581818            0   \n",
       "8           Kursi Marbel      65      41  0.630769            0   \n",
       "9  Anting-Anting permata      50      30  0.600000            0   \n",
       "\n",
       "   Greedy by profit  Greedy by weight  Greedy by density  \n",
       "0                 0                 0                  0  \n",
       "1                 0                 0                  0  \n",
       "2                 0                 0                  0  \n",
       "3                 0                 0                  0  \n",
       "4                 0                 0                  0  \n",
       "5                 0                 0                  0  \n",
       "6                 0                 0                  0  \n",
       "7                 0                 0                  0  \n",
       "8                 0                 0                  0  \n",
       "9                 0                 0                  0  "
      ]
     },
     "execution_count": 2,
     "metadata": {},
     "output_type": "execute_result"
    }
   ],
   "source": [
    "#membuat himpunan kandidat solusi\n",
    "set_objek = {\n",
    " 'Meja Kayu'             : {'w' : 70 , 'p' : 30}, \n",
    " 'Televisi'              : {'w' : 100, 'p' : 46}, \n",
    " 'Kabel Tembaga'         : {'w' : 90 , 'p' : 48}, \n",
    " 'Meja Marbel'           : {'w' : 70 , 'p' : 40}, \n",
    " 'Anting-anting berlian' : {'w' : 50 , 'p' : 45}, \n",
    " 'Cincin Emas'           : {'w' : 20 , 'p' : 50}, \n",
    " 'Anting-Anting perak'   : {'w' : 50 , 'p' : 30},  \n",
    " 'Gelang Perak'          : {'w' : 55 , 'p' : 32}, \n",
    " 'Kursi Marbel'          : {'w' : 65 , 'p' : 41},\n",
    " 'Anting-Anting permata' : {'w' : 50 , 'p' : 30},\n",
    " }\n",
    "#membuat instance knapsack dari himpunan kandidat\n",
    "O = Knapsack(250,set_objek=set_objek)\n",
    "O.tabel_objects # menampilkan tabel himpunan kandidat"
   ]
  },
  {
   "cell_type": "markdown",
   "metadata": {},
   "source": [
    "menjalankan algoritma brute force untuk mencari solusi"
   ]
  },
  {
   "cell_type": "code",
   "execution_count": 3,
   "metadata": {},
   "outputs": [
    {
     "name": "stdout",
     "output_type": "stream",
     "text": [
      "hasil algoritma brute force : total profit = 198,total weight = 240\n"
     ]
    }
   ],
   "source": [
    "S1,TP1,TW1 = O.Bruteforce_Knapsack()\n",
    "print(f'hasil algoritma brute force : total profit = {TP1},total weight = {TW1}')"
   ]
  },
  {
   "cell_type": "markdown",
   "metadata": {},
   "source": [
    "menjalankan algoritma greedy by profit untuk mencari solusi"
   ]
  },
  {
   "cell_type": "code",
   "execution_count": 4,
   "metadata": {},
   "outputs": [
    {
     "name": "stdout",
     "output_type": "stream",
     "text": [
      "hasil algoritma greedy by profit : total profit = 144, total weight = 210\n"
     ]
    }
   ],
   "source": [
    "S2,TP2,TW2 = O.GreedyByProfit_Knapsack()\n",
    "print(f'hasil algoritma greedy by profit : total profit = {TP2}, total weight = {TW2}')"
   ]
  },
  {
   "cell_type": "markdown",
   "metadata": {},
   "source": [
    "menjalankan algoritma greedy by weight untuk mencari solusi"
   ]
  },
  {
   "cell_type": "code",
   "execution_count": 5,
   "metadata": {},
   "outputs": [
    {
     "name": "stdout",
     "output_type": "stream",
     "text": [
      "hasil algoritma greedy by weight : total profit = 198,total weight = 240\n"
     ]
    }
   ],
   "source": [
    "S3,TP3,TW3 = O.GreedyByWeight_Knapsack()\n",
    "print(f'hasil algoritma greedy by weight : total profit = {TP3},total weight = {TW3}')"
   ]
  },
  {
   "cell_type": "markdown",
   "metadata": {},
   "source": [
    "menjalankan algoritma greedy by density untuk mencari solusi"
   ]
  },
  {
   "cell_type": "code",
   "execution_count": 6,
   "metadata": {},
   "outputs": [
    {
     "name": "stdout",
     "output_type": "stream",
     "text": [
      "hasil algoritma greedy by density : total profit = 198, total weight = 240\n"
     ]
    }
   ],
   "source": [
    "S4,TP4,TW4 = O.GreedyByDensity_Knapsack()\n",
    "print(f'hasil algoritma greedy by density : total profit = {TP4}, total weight = {TW4}')"
   ]
  },
  {
   "cell_type": "markdown",
   "metadata": {},
   "source": [
    "tabel objek setelah menjalankan algoritma knapsack"
   ]
  },
  {
   "cell_type": "code",
   "execution_count": 7,
   "metadata": {},
   "outputs": [
    {
     "data": {
      "text/html": [
       "<div>\n",
       "<style scoped>\n",
       "    .dataframe tbody tr th:only-of-type {\n",
       "        vertical-align: middle;\n",
       "    }\n",
       "\n",
       "    .dataframe tbody tr th {\n",
       "        vertical-align: top;\n",
       "    }\n",
       "\n",
       "    .dataframe thead th {\n",
       "        text-align: right;\n",
       "    }\n",
       "</style>\n",
       "<table border=\"1\" class=\"dataframe\">\n",
       "  <thead>\n",
       "    <tr style=\"text-align: right;\">\n",
       "      <th></th>\n",
       "      <th>Objek</th>\n",
       "      <th>Weight</th>\n",
       "      <th>Profit</th>\n",
       "      <th>Density</th>\n",
       "      <th>Brute Force</th>\n",
       "      <th>Greedy by profit</th>\n",
       "      <th>Greedy by weight</th>\n",
       "      <th>Greedy by density</th>\n",
       "    </tr>\n",
       "  </thead>\n",
       "  <tbody>\n",
       "    <tr>\n",
       "      <th>0</th>\n",
       "      <td>Meja Kayu</td>\n",
       "      <td>70</td>\n",
       "      <td>30</td>\n",
       "      <td>0.428571</td>\n",
       "      <td>0</td>\n",
       "      <td>0</td>\n",
       "      <td>0</td>\n",
       "      <td>0</td>\n",
       "    </tr>\n",
       "    <tr>\n",
       "      <th>1</th>\n",
       "      <td>Televisi</td>\n",
       "      <td>100</td>\n",
       "      <td>46</td>\n",
       "      <td>0.460000</td>\n",
       "      <td>0</td>\n",
       "      <td>1</td>\n",
       "      <td>0</td>\n",
       "      <td>0</td>\n",
       "    </tr>\n",
       "    <tr>\n",
       "      <th>2</th>\n",
       "      <td>Kabel Tembaga</td>\n",
       "      <td>90</td>\n",
       "      <td>48</td>\n",
       "      <td>0.533333</td>\n",
       "      <td>0</td>\n",
       "      <td>1</td>\n",
       "      <td>0</td>\n",
       "      <td>0</td>\n",
       "    </tr>\n",
       "    <tr>\n",
       "      <th>3</th>\n",
       "      <td>Meja Marbel</td>\n",
       "      <td>70</td>\n",
       "      <td>40</td>\n",
       "      <td>0.571429</td>\n",
       "      <td>0</td>\n",
       "      <td>0</td>\n",
       "      <td>0</td>\n",
       "      <td>0</td>\n",
       "    </tr>\n",
       "    <tr>\n",
       "      <th>4</th>\n",
       "      <td>Anting-anting berlian</td>\n",
       "      <td>50</td>\n",
       "      <td>45</td>\n",
       "      <td>0.900000</td>\n",
       "      <td>1</td>\n",
       "      <td>0</td>\n",
       "      <td>1</td>\n",
       "      <td>1</td>\n",
       "    </tr>\n",
       "    <tr>\n",
       "      <th>5</th>\n",
       "      <td>Cincin Emas</td>\n",
       "      <td>20</td>\n",
       "      <td>50</td>\n",
       "      <td>2.500000</td>\n",
       "      <td>1</td>\n",
       "      <td>1</td>\n",
       "      <td>1</td>\n",
       "      <td>1</td>\n",
       "    </tr>\n",
       "    <tr>\n",
       "      <th>6</th>\n",
       "      <td>Anting-Anting perak</td>\n",
       "      <td>50</td>\n",
       "      <td>30</td>\n",
       "      <td>0.600000</td>\n",
       "      <td>1</td>\n",
       "      <td>0</td>\n",
       "      <td>0</td>\n",
       "      <td>0</td>\n",
       "    </tr>\n",
       "    <tr>\n",
       "      <th>7</th>\n",
       "      <td>Gelang Perak</td>\n",
       "      <td>55</td>\n",
       "      <td>32</td>\n",
       "      <td>0.581818</td>\n",
       "      <td>1</td>\n",
       "      <td>0</td>\n",
       "      <td>1</td>\n",
       "      <td>1</td>\n",
       "    </tr>\n",
       "    <tr>\n",
       "      <th>8</th>\n",
       "      <td>Kursi Marbel</td>\n",
       "      <td>65</td>\n",
       "      <td>41</td>\n",
       "      <td>0.630769</td>\n",
       "      <td>1</td>\n",
       "      <td>0</td>\n",
       "      <td>1</td>\n",
       "      <td>1</td>\n",
       "    </tr>\n",
       "    <tr>\n",
       "      <th>9</th>\n",
       "      <td>Anting-Anting permata</td>\n",
       "      <td>50</td>\n",
       "      <td>30</td>\n",
       "      <td>0.600000</td>\n",
       "      <td>0</td>\n",
       "      <td>0</td>\n",
       "      <td>1</td>\n",
       "      <td>1</td>\n",
       "    </tr>\n",
       "  </tbody>\n",
       "</table>\n",
       "</div>"
      ],
      "text/plain": [
       "                   Objek  Weight  Profit   Density  Brute Force  \\\n",
       "0              Meja Kayu      70      30  0.428571            0   \n",
       "1               Televisi     100      46  0.460000            0   \n",
       "2          Kabel Tembaga      90      48  0.533333            0   \n",
       "3            Meja Marbel      70      40  0.571429            0   \n",
       "4  Anting-anting berlian      50      45  0.900000            1   \n",
       "5            Cincin Emas      20      50  2.500000            1   \n",
       "6    Anting-Anting perak      50      30  0.600000            1   \n",
       "7           Gelang Perak      55      32  0.581818            1   \n",
       "8           Kursi Marbel      65      41  0.630769            1   \n",
       "9  Anting-Anting permata      50      30  0.600000            0   \n",
       "\n",
       "   Greedy by profit  Greedy by weight  Greedy by density  \n",
       "0                 0                 0                  0  \n",
       "1                 1                 0                  0  \n",
       "2                 1                 0                  0  \n",
       "3                 0                 0                  0  \n",
       "4                 0                 1                  1  \n",
       "5                 1                 1                  1  \n",
       "6                 0                 0                  0  \n",
       "7                 0                 1                  1  \n",
       "8                 0                 1                  1  \n",
       "9                 0                 1                  1  "
      ]
     },
     "execution_count": 7,
     "metadata": {},
     "output_type": "execute_result"
    }
   ],
   "source": [
    "O.tabel_objects"
   ]
  },
  {
   "cell_type": "markdown",
   "metadata": {},
   "source": [
    "### Menguji apakah algoritma greedy selalu menghasilkan hasil optimal (membandingkan dengan algoritma brute force)"
   ]
  },
  {
   "cell_type": "code",
   "execution_count": 18,
   "metadata": {},
   "outputs": [
    {
     "name": "stdout",
     "output_type": "stream",
     "text": [
      "mengetest dengan perulangan sebanyak 1000 kali\n",
      "============================================================================\n",
      "pada iterasi ke-25,terdapat perbedaan\n",
      "============================================================================\n",
      "pada iterasi ke-101,terdapat perbedaan\n",
      "jumlah:BF = 6 , GP = 3, GW = 6, GD = 6\n",
      "profit:BF = 358 , GP = 241, GW = 241, GD = 351\n",
      "weight:BF = 226 , GP = 249, GW = 249, GD = 230\n",
      "============================================================================\n",
      "pada iterasi ke-119,terdapat perbedaan\n",
      "============================================================================\n",
      "pada iterasi ke-126,terdapat perbedaan\n",
      "============================================================================\n",
      "pada iterasi ke-238,terdapat perbedaan\n",
      "jumlah:BF = 3 , GP = 3, GW = 4, GD = 4\n",
      "profit:BF = 235 , GP = 228, GW = 228, GD = 221\n",
      "weight:BF = 123 , GP = 122, GW = 122, GD = 113\n",
      "============================================================================\n",
      "pada iterasi ke-339,terdapat perbedaan\n",
      "============================================================================\n",
      "pada iterasi ke-394,terdapat perbedaan\n",
      "jumlah:BF = 5 , GP = 4, GW = 5, GD = 5\n",
      "profit:BF = 266 , GP = 249, GW = 249, GD = 262\n",
      "weight:BF = 149 , GP = 142, GW = 142, GD = 142\n",
      "============================================================================\n",
      "pada iterasi ke-408,terdapat perbedaan\n",
      "jumlah:BF = 2 , GP = 2, GW = 3, GD = 3\n",
      "profit:BF = 163 , GP = 152, GW = 152, GD = 155\n",
      "weight:BF = 112 , GP = 115, GW = 115, GD = 111\n",
      "============================================================================\n",
      "pada iterasi ke-449,terdapat perbedaan\n",
      "============================================================================\n",
      "pada iterasi ke-467,terdapat perbedaan\n",
      "jumlah:BF = 6 , GP = 5, GW = 6, GD = 6\n",
      "profit:BF = 372 , GP = 329, GW = 329, GD = 359\n",
      "weight:BF = 193 , GP = 200, GW = 200, GD = 200\n",
      "============================================================================\n",
      "pada iterasi ke-473,terdapat perbedaan\n",
      "jumlah:BF = 2 , GP = 1, GW = 2, GD = 2\n",
      "profit:BF = 126 , GP = 93, GW = 93, GD = 124\n",
      "weight:BF = 75 , GP = 90, GW = 90, GD = 81\n",
      "============================================================================\n",
      "pada iterasi ke-570,terdapat perbedaan\n",
      "jumlah:BF = 4 , GP = 3, GW = 4, GD = 3\n",
      "profit:BF = 191 , GP = 186, GW = 186, GD = 186\n",
      "weight:BF = 174 , GP = 143, GW = 143, GD = 143\n",
      "============================================================================\n",
      "pada iterasi ke-654,terdapat perbedaan\n",
      "jumlah:BF = 5 , GP = 3, GW = 5, GD = 4\n",
      "profit:BF = 294 , GP = 250, GW = 250, GD = 299\n",
      "weight:BF = 241 , GP = 245, GW = 245, GD = 245\n",
      "============================================================================\n",
      "pada iterasi ke-688,terdapat perbedaan\n",
      "jumlah:BF = 2 , GP = 2, GW = 3, GD = 3\n",
      "profit:BF = 120 , GP = 88, GW = 88, GD = 98\n",
      "weight:BF = 84 , GP = 84, GW = 84, GD = 70\n",
      "============================================================================\n",
      "pada iterasi ke-692,terdapat perbedaan\n",
      "jumlah:BF = 3 , GP = 3, GW = 3, GD = 3\n",
      "profit:BF = 232 , GP = 228, GW = 228, GD = 228\n",
      "weight:BF = 143 , GP = 145, GW = 145, GD = 145\n",
      "============================================================================\n",
      "pada iterasi ke-702,terdapat perbedaan\n",
      "============================================================================\n",
      "pada iterasi ke-706,terdapat perbedaan\n",
      "============================================================================\n",
      "pada iterasi ke-716,terdapat perbedaan\n",
      "jumlah:BF = 3 , GP = 2, GW = 3, GD = 3\n",
      "profit:BF = 219 , GP = 178, GW = 178, GD = 194\n",
      "weight:BF = 93 , GP = 103, GW = 103, GD = 95\n",
      "============================================================================\n",
      "pada iterasi ke-782,terdapat perbedaan\n",
      "jumlah:BF = 5 , GP = 4, GW = 5, GD = 5\n",
      "profit:BF = 294 , GP = 262, GW = 262, GD = 284\n",
      "weight:BF = 249 , GP = 224, GW = 224, GD = 241\n",
      "============================================================================\n",
      "pada iterasi ke-828,terdapat perbedaan\n",
      "============================================================================\n",
      "pada iterasi ke-957,terdapat perbedaan\n",
      "============================================================================\n",
      "pengecekan selesai , persentase terjadi perbedaan = 2% , persentase error = 0%\n"
     ]
    }
   ],
   "source": [
    "run_testing(1000)\n",
    "# keterangan :\n",
    "# BF = brute force\n",
    "# GP = greedy by profit\n",
    "# GW = greedy by weight\n",
    "# GD = greedy by density"
   ]
  }
 ],
 "metadata": {
  "interpreter": {
   "hash": "7a6ff1ec4becc2c762872846b6a95fee1120f1b534184eb0e8f65a45fb7fadc7"
  },
  "kernelspec": {
   "display_name": "Python 3.10.3 64-bit",
   "language": "python",
   "name": "python3"
  },
  "language_info": {
   "codemirror_mode": {
    "name": "ipython",
    "version": 3
   },
   "file_extension": ".py",
   "mimetype": "text/x-python",
   "name": "python",
   "nbconvert_exporter": "python",
   "pygments_lexer": "ipython3",
   "version": "3.10.3"
  },
  "orig_nbformat": 4
 },
 "nbformat": 4,
 "nbformat_minor": 2
}
