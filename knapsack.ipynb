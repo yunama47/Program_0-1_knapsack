{
 "cells": [
  {
   "cell_type": "code",
   "execution_count": 1,
   "metadata": {},
   "outputs": [],
   "source": [
    "from modul.knapsack import Knapsack\n",
    "\n",
    "set_objek = {\n",
    " 'Meja Kayu'             : {'w' : 70 , 'p' : 30}, \n",
    " 'Televisi'              : {'w' : 100, 'p' : 46}, \n",
    " 'Kabel Tembaga'         : {'w' : 90 , 'p' : 48}, \n",
    " 'Meja Marbel'           : {'w' : 70 , 'p' : 40}, \n",
    " 'Anting-anting berlian' : {'w' : 50 , 'p' : 45}, \n",
    " 'Cincin Emas'           : {'w' : 20 , 'p' : 50}, \n",
    " 'Anting-Anting perak'   : {'w' : 50 , 'p' : 30},  \n",
    " 'Gelang Perak'          : {'w' : 55 , 'p' : 32}, \n",
    " 'Kursi Marbel'          : {'w' : 65 , 'p' : 41},\n",
    " 'Anting-Anting permata' : {'w' : 50 , 'p' : 30},\n",
    " }\n",
    "\n",
    "O = Knapsack(250,set_objek=set_objek)\n",
    "# O = Knapsack(250,N=10)\n",
    "# O.tabel_objects"
   ]
  },
  {
   "cell_type": "code",
   "execution_count": 2,
   "metadata": {},
   "outputs": [
    {
     "name": "stdout",
     "output_type": "stream",
     "text": [
      "profit = 240, weight = 198\n"
     ]
    }
   ],
   "source": [
    "S1,TW1,TP1 = O.Bruteforce_Knapsack()\n",
    "print(f'profit = {TP1}, weight = {TW1}')"
   ]
  },
  {
   "cell_type": "code",
   "execution_count": 3,
   "metadata": {},
   "outputs": [
    {
     "name": "stdout",
     "output_type": "stream",
     "text": [
      "profit = 210, weight = 144\n"
     ]
    }
   ],
   "source": [
    "S2,TW2,TP2 = O.GreedyByProfit_Knapsack()\n",
    "print(f'profit = {TP2}, weight = {TW2}')"
   ]
  },
  {
   "cell_type": "code",
   "execution_count": 4,
   "metadata": {},
   "outputs": [
    {
     "name": "stdout",
     "output_type": "stream",
     "text": [
      "profit = 240, weight = 198\n"
     ]
    }
   ],
   "source": [
    "S3,TW3,TP3 = O.GreedyByWeight_Knapsack()\n",
    "print(f'profit = {TP3}, weight = {TW3}')"
   ]
  },
  {
   "cell_type": "code",
   "execution_count": 5,
   "metadata": {},
   "outputs": [
    {
     "name": "stdout",
     "output_type": "stream",
     "text": [
      "profit = 240, weight = 198\n"
     ]
    }
   ],
   "source": [
    "S4,TW4,TP4 = O.GreedyByDensity_Knapsack()\n",
    "print(f'profit = {TP4}, weight = {TW4}')"
   ]
  },
  {
   "cell_type": "code",
   "execution_count": 6,
   "metadata": {},
   "outputs": [
    {
     "data": {
      "text/html": [
       "<div>\n",
       "<style scoped>\n",
       "    .dataframe tbody tr th:only-of-type {\n",
       "        vertical-align: middle;\n",
       "    }\n",
       "\n",
       "    .dataframe tbody tr th {\n",
       "        vertical-align: top;\n",
       "    }\n",
       "\n",
       "    .dataframe thead th {\n",
       "        text-align: right;\n",
       "    }\n",
       "</style>\n",
       "<table border=\"1\" class=\"dataframe\">\n",
       "  <thead>\n",
       "    <tr style=\"text-align: right;\">\n",
       "      <th></th>\n",
       "      <th>Objek</th>\n",
       "      <th>Weight</th>\n",
       "      <th>Profit</th>\n",
       "      <th>Density</th>\n",
       "      <th>Brute Force</th>\n",
       "      <th>Greedy by profit</th>\n",
       "      <th>Greedy by weight</th>\n",
       "      <th>Greedy by density</th>\n",
       "    </tr>\n",
       "  </thead>\n",
       "  <tbody>\n",
       "    <tr>\n",
       "      <th>0</th>\n",
       "      <td>Meja Kayu</td>\n",
       "      <td>70</td>\n",
       "      <td>30</td>\n",
       "      <td>0.428571</td>\n",
       "      <td>0</td>\n",
       "      <td>0</td>\n",
       "      <td>0</td>\n",
       "      <td>0</td>\n",
       "    </tr>\n",
       "    <tr>\n",
       "      <th>1</th>\n",
       "      <td>Televisi</td>\n",
       "      <td>100</td>\n",
       "      <td>46</td>\n",
       "      <td>0.460000</td>\n",
       "      <td>0</td>\n",
       "      <td>1</td>\n",
       "      <td>0</td>\n",
       "      <td>0</td>\n",
       "    </tr>\n",
       "    <tr>\n",
       "      <th>2</th>\n",
       "      <td>Kabel Tembaga</td>\n",
       "      <td>90</td>\n",
       "      <td>48</td>\n",
       "      <td>0.533333</td>\n",
       "      <td>0</td>\n",
       "      <td>1</td>\n",
       "      <td>0</td>\n",
       "      <td>0</td>\n",
       "    </tr>\n",
       "    <tr>\n",
       "      <th>3</th>\n",
       "      <td>Meja Marbel</td>\n",
       "      <td>70</td>\n",
       "      <td>40</td>\n",
       "      <td>0.571429</td>\n",
       "      <td>0</td>\n",
       "      <td>0</td>\n",
       "      <td>0</td>\n",
       "      <td>0</td>\n",
       "    </tr>\n",
       "    <tr>\n",
       "      <th>4</th>\n",
       "      <td>Anting-anting berlian</td>\n",
       "      <td>50</td>\n",
       "      <td>45</td>\n",
       "      <td>0.900000</td>\n",
       "      <td>1</td>\n",
       "      <td>0</td>\n",
       "      <td>1</td>\n",
       "      <td>1</td>\n",
       "    </tr>\n",
       "    <tr>\n",
       "      <th>5</th>\n",
       "      <td>Cincin Emas</td>\n",
       "      <td>20</td>\n",
       "      <td>50</td>\n",
       "      <td>2.500000</td>\n",
       "      <td>1</td>\n",
       "      <td>1</td>\n",
       "      <td>1</td>\n",
       "      <td>1</td>\n",
       "    </tr>\n",
       "    <tr>\n",
       "      <th>6</th>\n",
       "      <td>Anting-Anting perak</td>\n",
       "      <td>50</td>\n",
       "      <td>30</td>\n",
       "      <td>0.600000</td>\n",
       "      <td>1</td>\n",
       "      <td>0</td>\n",
       "      <td>0</td>\n",
       "      <td>0</td>\n",
       "    </tr>\n",
       "    <tr>\n",
       "      <th>7</th>\n",
       "      <td>Gelang Perak</td>\n",
       "      <td>55</td>\n",
       "      <td>32</td>\n",
       "      <td>0.581818</td>\n",
       "      <td>1</td>\n",
       "      <td>0</td>\n",
       "      <td>1</td>\n",
       "      <td>1</td>\n",
       "    </tr>\n",
       "    <tr>\n",
       "      <th>8</th>\n",
       "      <td>Kursi Marbel</td>\n",
       "      <td>65</td>\n",
       "      <td>41</td>\n",
       "      <td>0.630769</td>\n",
       "      <td>1</td>\n",
       "      <td>0</td>\n",
       "      <td>1</td>\n",
       "      <td>1</td>\n",
       "    </tr>\n",
       "    <tr>\n",
       "      <th>9</th>\n",
       "      <td>Anting-Anting permata</td>\n",
       "      <td>50</td>\n",
       "      <td>30</td>\n",
       "      <td>0.600000</td>\n",
       "      <td>0</td>\n",
       "      <td>0</td>\n",
       "      <td>1</td>\n",
       "      <td>1</td>\n",
       "    </tr>\n",
       "  </tbody>\n",
       "</table>\n",
       "</div>"
      ],
      "text/plain": [
       "                   Objek  Weight  Profit   Density  Brute Force  \\\n",
       "0              Meja Kayu      70      30  0.428571            0   \n",
       "1               Televisi     100      46  0.460000            0   \n",
       "2          Kabel Tembaga      90      48  0.533333            0   \n",
       "3            Meja Marbel      70      40  0.571429            0   \n",
       "4  Anting-anting berlian      50      45  0.900000            1   \n",
       "5            Cincin Emas      20      50  2.500000            1   \n",
       "6    Anting-Anting perak      50      30  0.600000            1   \n",
       "7           Gelang Perak      55      32  0.581818            1   \n",
       "8           Kursi Marbel      65      41  0.630769            1   \n",
       "9  Anting-Anting permata      50      30  0.600000            0   \n",
       "\n",
       "   Greedy by profit  Greedy by weight  Greedy by density  \n",
       "0                 0                 0                  0  \n",
       "1                 1                 0                  0  \n",
       "2                 1                 0                  0  \n",
       "3                 0                 0                  0  \n",
       "4                 0                 1                  1  \n",
       "5                 1                 1                  1  \n",
       "6                 0                 0                  0  \n",
       "7                 0                 1                  1  \n",
       "8                 0                 1                  1  \n",
       "9                 0                 1                  1  "
      ]
     },
     "execution_count": 6,
     "metadata": {},
     "output_type": "execute_result"
    }
   ],
   "source": [
    "O.tabel_objects"
   ]
  }
 ],
 "metadata": {
  "interpreter": {
   "hash": "7a6ff1ec4becc2c762872846b6a95fee1120f1b534184eb0e8f65a45fb7fadc7"
  },
  "kernelspec": {
   "display_name": "Python 3.10.3 64-bit",
   "language": "python",
   "name": "python3"
  },
  "language_info": {
   "codemirror_mode": {
    "name": "ipython",
    "version": 3
   },
   "file_extension": ".py",
   "mimetype": "text/x-python",
   "name": "python",
   "nbconvert_exporter": "python",
   "pygments_lexer": "ipython3",
   "version": "3.10.3"
  },
  "orig_nbformat": 4
 },
 "nbformat": 4,
 "nbformat_minor": 2
}
